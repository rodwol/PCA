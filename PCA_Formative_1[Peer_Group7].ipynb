{
  "cells": [
    {
      "cell_type": "markdown",
      "metadata": {
        "colab_type": "text",
        "id": "view-in-github"
      },
      "source": [
        "<a href=\"https://colab.research.google.com/github/rodwol/PCA/blob/main/PCA_Formative_1%5BPeer_Group7%5D.ipynb\" target=\"_parent\"><img src=\"https://colab.research.google.com/assets/colab-badge.svg\" alt=\"Open In Colab\"/></a>"
      ]
    },
    {
      "cell_type": "markdown",
      "metadata": {
        "id": "JqkivgEHr_KW"
      },
      "source": [
        "# Formative Assignment: Advanced Linear Algebra (PCA)\n",
        "This notebook will guide you through the implementation of Principal Component Analysis (PCA). Fill in the missing code and provide the required answers in the appropriate sections. You will work with the `fuel_econ.csv` dataset.\n",
        "\n",
        "Make sure to display outputs for each code cell when submitting."
      ]
    },
    {
      "cell_type": "markdown",
      "metadata": {
        "id": "xycIp758r_Kb"
      },
      "source": [
        "### Step 1: Load and Standardize the Data\n",
        "Before applying PCA, we must standardize the dataset. Standardization ensures that all features have a mean of 0 and a standard deviation of 1, which is essential for PCA.\n",
        "Fill in the code to standardize the dataset.\n",
        "\n",
        "STRICTLY - Write code that implements standardization based on the image below\n",
        "\n",
        "<img src='data:image/jpeg;base64,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'/>\n"
      ]
    },
    {
      "cell_type": "code",
      "execution_count": null,
      "metadata": {
        "colab": {
          "base_uri": "https://localhost:8080/"
        },
        "id": "VusihsJUKlcb",
        "outputId": "c5a5e2ee-9e16-4d08-c1e2-4366408ad780"
      },
      "outputs": [
        {
          "name": "stdout",
          "output_type": "stream",
          "text": [
            "   iso_code continent        location last_updated_date  total_cases  \\\n",
            "0       AFG      Asia     Afghanistan        2024-08-04     235214.0   \n",
            "1  OWID_AFR       NaN          Africa        2024-08-04   13145380.0   \n",
            "2       ALB    Europe         Albania        2024-08-04     335047.0   \n",
            "3       DZA    Africa         Algeria        2024-08-04     272139.0   \n",
            "4       ASM   Oceania  American Samoa        2024-08-04       8359.0   \n",
            "\n",
            "   new_cases  new_cases_smoothed  total_deaths  new_deaths  \\\n",
            "0        0.0               0.000        7998.0         0.0   \n",
            "1       36.0               5.143      259117.0         0.0   \n",
            "2        0.0               0.000        3605.0         0.0   \n",
            "3       18.0               2.571        6881.0         0.0   \n",
            "4        0.0               0.000          34.0         0.0   \n",
            "\n",
            "   new_deaths_smoothed  ...  male_smokers  handwashing_facilities  \\\n",
            "0                  0.0  ...           NaN                  37.746   \n",
            "1                  0.0  ...           NaN                     NaN   \n",
            "2                  0.0  ...          51.2                     NaN   \n",
            "3                  0.0  ...          30.4                  83.741   \n",
            "4                  0.0  ...           NaN                     NaN   \n",
            "\n",
            "   hospital_beds_per_thousand  life_expectancy  human_development_index  \\\n",
            "0                        0.50            64.83                    0.511   \n",
            "1                         NaN              NaN                      NaN   \n",
            "2                        2.89            78.57                    0.795   \n",
            "3                        1.90            76.88                    0.748   \n",
            "4                         NaN            73.74                      NaN   \n",
            "\n",
            "     population  excess_mortality_cumulative_absolute  \\\n",
            "0  4.112877e+07                                   NaN   \n",
            "1  1.426737e+09                                   NaN   \n",
            "2  2.842318e+06                                   NaN   \n",
            "3  4.490323e+07                                   NaN   \n",
            "4  4.429500e+04                                   NaN   \n",
            "\n",
            "   excess_mortality_cumulative  excess_mortality  \\\n",
            "0                          NaN               NaN   \n",
            "1                          NaN               NaN   \n",
            "2                          NaN               NaN   \n",
            "3                          NaN               NaN   \n",
            "4                          NaN               NaN   \n",
            "\n",
            "   excess_mortality_cumulative_per_million  \n",
            "0                                      NaN  \n",
            "1                                      NaN  \n",
            "2                                      NaN  \n",
            "3                                      NaN  \n",
            "4                                      NaN  \n",
            "\n",
            "[5 rows x 67 columns]\n"
          ]
        }
      ],
      "source": [
        "import numpy as np\n",
        "import pandas as pd\n",
        "\n",
        "url = 'https://raw.githubusercontent.com/rodwol/PCA/main/owid-covid-latest.csv'\n",
        "data = pd.read_csv(url)\n",
        "print(data.head())"
      ]
    },
    {
      "cell_type": "code",
      "execution_count": null,
      "metadata": {
        "colab": {
          "base_uri": "https://localhost:8080/"
        },
        "id": "BKihXBaBr_Kc",
        "outputId": "37183e45-c65c-41eb-8193-cd5a3d6c869f"
      },
      "outputs": [
        {
          "name": "stdout",
          "output_type": "stream",
          "text": [
            "   total_cases  new_cases  new_cases_smoothed  total_deaths  new_deaths  \\\n",
            "0    -0.200329  -0.182798           -0.182798     -0.195048   -0.152549   \n",
            "1    -0.003371  -0.175367           -0.175367      0.242781   -0.152549   \n",
            "2    -0.198806  -0.182798           -0.182798     -0.202708   -0.152549   \n",
            "3    -0.199766  -0.179082           -0.179083     -0.196996   -0.152549   \n",
            "4    -0.203790  -0.182798           -0.182798     -0.208934   -0.152549   \n",
            "\n",
            "   new_deaths_smoothed  total_cases_per_million  new_cases_per_million  \\\n",
            "0             -0.15255                -0.990716              -0.268204   \n",
            "1             -0.15255                -0.974258              -0.267902   \n",
            "2             -0.15255                -0.427381              -0.268204   \n",
            "3             -0.15255                -0.989778              -0.263421   \n",
            "4             -0.15255                -0.155745              -0.268204   \n",
            "\n",
            "   new_cases_smoothed_per_million  total_deaths_per_million  ...  \\\n",
            "0                       -0.268205                 -0.813882  ...   \n",
            "1                       -0.267866                 -0.827474  ...   \n",
            "2                       -0.268205                  0.002650  ...   \n",
            "3                       -0.263385                 -0.848573  ...   \n",
            "4                       -0.268205                 -0.430634  ...   \n",
            "\n",
            "   male_smokers  handwashing_facilities  hospital_beds_per_thousand  \\\n",
            "0           NaN               -0.408136                   -1.019084   \n",
            "1           NaN                     NaN                         NaN   \n",
            "2      1.347367                     NaN                   -0.081233   \n",
            "3     -0.184895                1.031137                   -0.469715   \n",
            "4           NaN                     NaN                         NaN   \n",
            "\n",
            "   life_expectancy  human_development_index  population  \\\n",
            "0        -1.195027                -1.419425   -0.134372   \n",
            "1              NaN                      NaN    1.942755   \n",
            "2         0.664323                 0.486564   -0.191766   \n",
            "3         0.435626                 0.171136   -0.128714   \n",
            "4         0.010709                      NaN   -0.195961   \n",
            "\n",
            "   excess_mortality_cumulative_absolute  excess_mortality_cumulative  \\\n",
            "0                                   NaN                          NaN   \n",
            "1                                   NaN                          NaN   \n",
            "2                                   NaN                          NaN   \n",
            "3                                   NaN                          NaN   \n",
            "4                                   NaN                          NaN   \n",
            "\n",
            "   excess_mortality  excess_mortality_cumulative_per_million  \n",
            "0               NaN                                      NaN  \n",
            "1               NaN                                      NaN  \n",
            "2               NaN                                      NaN  \n",
            "3               NaN                                      NaN  \n",
            "4               NaN                                      NaN  \n",
            "\n",
            "[5 rows x 63 columns]\n"
          ]
        }
      ],
      "source": [
        "def standardize_data(data):\n",
        "    data = data.select_dtypes(include=[np.number])\n",
        "    mean = np.mean(data, axis=0)\n",
        "    std = np.std(data, axis=0)\n",
        "\n",
        "    std[std == 0] = 1.0\n",
        "    standardized_data = (data - mean)/std # Do not use sklearn (Data - Data Mean)/ Data's Standard Deviation\n",
        "    return standardized_data\n",
        "\n",
        "standardized = standardize_data(data)\n",
        "print(standardized.head())"
      ]
    },
    {
      "cell_type": "markdown",
      "metadata": {
        "id": "Fybn40Syr_Kd"
      },
      "source": [
        "### Step 3: Calculate the Covariance Matrix\n",
        "The covariance matrix helps us understand how the features are related to each other. It is a key component in PCA."
      ]
    },
    {
      "cell_type": "code",
      "execution_count": null,
      "metadata": {
        "colab": {
          "base_uri": "https://localhost:8080/"
        },
        "id": "RbklA9tqr_Ke",
        "outputId": "b5c8b0e6-d80d-4604-cf26-9d25f029e68d"
      },
      "outputs": [
        {
          "name": "stdout",
          "output_type": "stream",
          "text": [
            "Covariance matrix shape: (310, 310)\n",
            "                                     0   1   2   3   4   5   6   7   8   9  \\\n",
            "0                                  NaN NaN NaN NaN NaN NaN NaN NaN NaN NaN   \n",
            "1                                  NaN NaN NaN NaN NaN NaN NaN NaN NaN NaN   \n",
            "2                                  NaN NaN NaN NaN NaN NaN NaN NaN NaN NaN   \n",
            "3                                  NaN NaN NaN NaN NaN NaN NaN NaN NaN NaN   \n",
            "4                                  NaN NaN NaN NaN NaN NaN NaN NaN NaN NaN   \n",
            "...                                 ..  ..  ..  ..  ..  ..  ..  ..  ..  ..   \n",
            "total_vaccinations_per_hundred     NaN NaN NaN NaN NaN NaN NaN NaN NaN NaN   \n",
            "weekly_hosp_admissions             NaN NaN NaN NaN NaN NaN NaN NaN NaN NaN   \n",
            "weekly_hosp_admissions_per_million NaN NaN NaN NaN NaN NaN NaN NaN NaN NaN   \n",
            "weekly_icu_admissions              NaN NaN NaN NaN NaN NaN NaN NaN NaN NaN   \n",
            "weekly_icu_admissions_per_million  NaN NaN NaN NaN NaN NaN NaN NaN NaN NaN   \n",
            "\n",
            "                                    ...  total_deaths  \\\n",
            "0                                   ...           NaN   \n",
            "1                                   ...           NaN   \n",
            "2                                   ...           NaN   \n",
            "3                                   ...           NaN   \n",
            "4                                   ...           NaN   \n",
            "...                                 ...           ...   \n",
            "total_vaccinations_per_hundred      ...           NaN   \n",
            "weekly_hosp_admissions              ...           NaN   \n",
            "weekly_hosp_admissions_per_million  ...           NaN   \n",
            "weekly_icu_admissions               ...           NaN   \n",
            "weekly_icu_admissions_per_million   ...           NaN   \n",
            "\n",
            "                                    total_deaths_per_million  total_tests  \\\n",
            "0                                                        NaN          NaN   \n",
            "1                                                        NaN          NaN   \n",
            "2                                                        NaN          NaN   \n",
            "3                                                        NaN          NaN   \n",
            "4                                                        NaN          NaN   \n",
            "...                                                      ...          ...   \n",
            "total_vaccinations_per_hundred                           NaN          NaN   \n",
            "weekly_hosp_admissions                                   NaN          NaN   \n",
            "weekly_hosp_admissions_per_million                       NaN          NaN   \n",
            "weekly_icu_admissions                                    NaN          NaN   \n",
            "weekly_icu_admissions_per_million                        NaN          NaN   \n",
            "\n",
            "                                    total_tests_per_thousand  \\\n",
            "0                                                        NaN   \n",
            "1                                                        NaN   \n",
            "2                                                        NaN   \n",
            "3                                                        NaN   \n",
            "4                                                        NaN   \n",
            "...                                                      ...   \n",
            "total_vaccinations_per_hundred                           NaN   \n",
            "weekly_hosp_admissions                                   NaN   \n",
            "weekly_hosp_admissions_per_million                       NaN   \n",
            "weekly_icu_admissions                                    NaN   \n",
            "weekly_icu_admissions_per_million                        NaN   \n",
            "\n",
            "                                    total_vaccinations  \\\n",
            "0                                                  NaN   \n",
            "1                                                  NaN   \n",
            "2                                                  NaN   \n",
            "3                                                  NaN   \n",
            "4                                                  NaN   \n",
            "...                                                ...   \n",
            "total_vaccinations_per_hundred                     NaN   \n",
            "weekly_hosp_admissions                             NaN   \n",
            "weekly_hosp_admissions_per_million                 NaN   \n",
            "weekly_icu_admissions                              NaN   \n",
            "weekly_icu_admissions_per_million                  NaN   \n",
            "\n",
            "                                    total_vaccinations_per_hundred  \\\n",
            "0                                                              NaN   \n",
            "1                                                              NaN   \n",
            "2                                                              NaN   \n",
            "3                                                              NaN   \n",
            "4                                                              NaN   \n",
            "...                                                            ...   \n",
            "total_vaccinations_per_hundred                                 NaN   \n",
            "weekly_hosp_admissions                                         NaN   \n",
            "weekly_hosp_admissions_per_million                             NaN   \n",
            "weekly_icu_admissions                                          NaN   \n",
            "weekly_icu_admissions_per_million                              NaN   \n",
            "\n",
            "                                    weekly_hosp_admissions  \\\n",
            "0                                                      NaN   \n",
            "1                                                      NaN   \n",
            "2                                                      NaN   \n",
            "3                                                      NaN   \n",
            "4                                                      NaN   \n",
            "...                                                    ...   \n",
            "total_vaccinations_per_hundred                         NaN   \n",
            "weekly_hosp_admissions                                 NaN   \n",
            "weekly_hosp_admissions_per_million                     NaN   \n",
            "weekly_icu_admissions                                  NaN   \n",
            "weekly_icu_admissions_per_million                      NaN   \n",
            "\n",
            "                                    weekly_hosp_admissions_per_million  \\\n",
            "0                                                                  NaN   \n",
            "1                                                                  NaN   \n",
            "2                                                                  NaN   \n",
            "3                                                                  NaN   \n",
            "4                                                                  NaN   \n",
            "...                                                                ...   \n",
            "total_vaccinations_per_hundred                                     NaN   \n",
            "weekly_hosp_admissions                                             NaN   \n",
            "weekly_hosp_admissions_per_million                                 NaN   \n",
            "weekly_icu_admissions                                              NaN   \n",
            "weekly_icu_admissions_per_million                                  NaN   \n",
            "\n",
            "                                    weekly_icu_admissions  \\\n",
            "0                                                     NaN   \n",
            "1                                                     NaN   \n",
            "2                                                     NaN   \n",
            "3                                                     NaN   \n",
            "4                                                     NaN   \n",
            "...                                                   ...   \n",
            "total_vaccinations_per_hundred                        NaN   \n",
            "weekly_hosp_admissions                                NaN   \n",
            "weekly_hosp_admissions_per_million                    NaN   \n",
            "weekly_icu_admissions                                 NaN   \n",
            "weekly_icu_admissions_per_million                     NaN   \n",
            "\n",
            "                                    weekly_icu_admissions_per_million  \n",
            "0                                                                 NaN  \n",
            "1                                                                 NaN  \n",
            "2                                                                 NaN  \n",
            "3                                                                 NaN  \n",
            "4                                                                 NaN  \n",
            "...                                                               ...  \n",
            "total_vaccinations_per_hundred                                    NaN  \n",
            "weekly_hosp_admissions                                            NaN  \n",
            "weekly_hosp_admissions_per_million                                NaN  \n",
            "weekly_icu_admissions                                             NaN  \n",
            "weekly_icu_admissions_per_million                                 NaN  \n",
            "\n",
            "[310 rows x 310 columns]\n"
          ]
        }
      ],
      "source": [
        "# Step 3: Calculate the Covariance Matrix\n",
        "def compute_covariance_matrix(X_std):\n",
        "  \"\"\" computing covariance manually \"\"\"\n",
        "  n_samples = X_std.shape[0] # X_std is the standarized data\n",
        "  cov_matrix = (X_std.T * X_std) / n_samples  # Calculate covariance matrix\n",
        "  return cov_matrix\n",
        "\n",
        "cov_matrix = compute_covariance_matrix(standardized)\n",
        "print(\"Covariance matrix shape:\", cov_matrix.shape)\n",
        "print(cov_matrix.round(2))"
      ]
    },
    {
      "cell_type": "markdown",
      "metadata": {
        "id": "dWzqXsR0r_Ke"
      },
      "source": [
        "### Step 4: Perform Eigendecomposition\n",
        "Eigendecomposition of the covariance matrix will give us the eigenvalues and eigenvectors, which are essential for PCA.\n",
        "Fill in the code to compute the eigenvalues and eigenvectors of the covariance matrix."
      ]
    },
    {
      "cell_type": "code",
      "execution_count": null,
      "metadata": {
        "id": "8Tm0rzdAr_Ke"
      },
      "outputs": [],
      "source": [
        "# Step 4: Perform Eigendecomposition\n",
        "eigenvalues, eigenvectors = None  # Perform eigendecomposition\n",
        "eigenvalues, eigenvectors"
      ]
    },
    {
      "cell_type": "markdown",
      "metadata": {
        "id": "bp6o_4sTr_Kf"
      },
      "source": [
        "### Step 5: Sort Principal Components\n",
        "Sort the eigenvectors based on their corresponding eigenvalues in descending order. The higher the eigenvalue, the more important the eigenvector.\n",
        "Complete the code to sort the eigenvectors and print the sorted components.\n",
        "\n",
        "<a url ='https://www.youtube.com/watch?v=vaF-1xUEXsA&t=17s'>How Is Explained Variance Used In PCA?'<a/>"
      ]
    },
    {
      "cell_type": "code",
      "execution_count": null,
      "metadata": {
        "id": "jpfoRz-Xr_Kf"
      },
      "outputs": [],
      "source": [
        "# Step 5: Sort Principal Components\n",
        "sorted_indices = None  # Sort eigenvalues in descending order\n",
        "sorted_eigenvectors = None  # Sort eigenvectors accordingly\n",
        "sorted_eigenvectors"
      ]
    },
    {
      "cell_type": "markdown",
      "metadata": {
        "id": "uxbmuO27r_Kg"
      },
      "source": [
        "### Step 6: Project Data onto Principal Components\n",
        "Now that we’ve selected the number of components, we will project the original data onto the chosen principal components.\n",
        "Fill in the code to perform the projection."
      ]
    },
    {
      "cell_type": "code",
      "execution_count": null,
      "metadata": {
        "id": "ubjIMAtWr_Kg"
      },
      "outputs": [],
      "source": [
        "# Step 6: Project Data onto Principal Components\n",
        "num_components = None  # Decide on the number of principal components to keep\n",
        "reduced_data = None  # Project data onto the principal components\n",
        "reduced_data[:5]"
      ]
    },
    {
      "cell_type": "markdown",
      "metadata": {
        "id": "XVq-b6vtr_Kg"
      },
      "source": [
        "### Step 7: Output the Reduced Data\n",
        "Finally, display the reduced data obtained by projecting the original dataset onto the selected principal components."
      ]
    },
    {
      "cell_type": "code",
      "execution_count": null,
      "metadata": {
        "id": "5D0uzRyPr_Kg"
      },
      "outputs": [],
      "source": [
        "# Step 7: Output the Reduced Data\n",
        "print(f'Reduced Data Shape: {reduced_data.shape}')  # Display reduced data shape\n",
        "reduced_data[:5]  # Display the first few rows of reduced data"
      ]
    },
    {
      "cell_type": "markdown",
      "metadata": {
        "id": "S1f8ROm5r_Kg"
      },
      "source": [
        "### Step 8: Visualize Before and After PCA\n",
        "Now, let's plot the original data and the data after PCA to compare the reduction in dimensions visually."
      ]
    },
    {
      "cell_type": "code",
      "execution_count": null,
      "metadata": {
        "id": "WwuppWV-r_Kg"
      },
      "outputs": [],
      "source": [
        "# Step 8: Visualize Before and After PCA\n",
        "\n",
        "\n",
        "print(\"\\n--- Step 6: Visualizing Results ---\")\n",
        "\n",
        "# Create a figure to hold our two plots\n",
        "plt.figure(figsize=(16, 7))\n",
        "\n",
        "# --- PLOT 1: ORIGINAL DATA (BEFORE PCA) ---\n",
        "plt.subplot(1, 2, 1)\n",
        "# Let's pick two interesting original features to plot against each other\n",
        "# We use the 'final_column_names' list we saved in Step 0\n",
        "idx_gdp = final_column_names.index('gdp_per_capita')\n",
        "idx_life = final_column_names.index('life_expectancy')\n",
        "plt.scatter(X[:, idx_gdp], X[:, idx_life], alpha=0.6, c='blue')\n",
        "plt.title('Before PCA: Original Data', fontsize=16)\n",
        "plt.xlabel('GDP per Capita (Original)', fontsize=12)\n",
        "plt.ylabel('Life Expectancy (Original)', fontsize=12)\n",
        "plt.grid(True)\n",
        "\n",
        "# --- PLOT 2: REDUCED DATA (AFTER PCA) ---\n",
        "plt.subplot(1, 2, 2)\n",
        "# The reduced data has two columns: PC1 and PC2\n",
        "plt.scatter(reduced_data[:, 0], reduced_data[:, 1], alpha=0.6, c='orange')\n",
        "plt.title('After PCA: Reduced to 2 Dimensions', fontsize=16)\n",
        "plt.xlabel('Principal Component 1', fontsize=12)\n",
        "plt.ylabel('Principal Component 2', fontsize=12)\n",
        "plt.grid(True)\n",
        "\n",
        "plt.suptitle('PCA Dimensionality Reduction', fontsize=20)\n",
        "plt.tight_layout(rect=[0, 0.03, 1, 0.95])\n",
        "plt.show()\n",
        "print(\"\\nVisualization complete.\")"
      ]
    }
  ],
  "metadata": {
    "colab": {
      "include_colab_link": true,
      "provenance": []
    },
    "kernelspec": {
      "display_name": "Python 3",
      "name": "python3"
    },
    "language_info": {
      "name": "python",
      "version": "3.8.8"
    }
  },
  "nbformat": 4,
  "nbformat_minor": 0
}
