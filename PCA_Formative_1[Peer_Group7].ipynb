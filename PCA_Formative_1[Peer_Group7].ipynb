{
  "cells": [
    {
      "cell_type": "markdown",
      "metadata": {
        "id": "view-in-github",
        "colab_type": "text"
      },
      "source": [
        "<a href=\"https://colab.research.google.com/github/rodwol/PCA/blob/main/PCA_Formative_1%5BPeer_Group7%5D.ipynb\" target=\"_parent\"><img src=\"https://colab.research.google.com/assets/colab-badge.svg\" alt=\"Open In Colab\"/></a>"
      ]
    },
    {
      "cell_type": "markdown",
      "metadata": {
        "id": "JqkivgEHr_KW"
      },
      "source": [
        "# Formative Assignment: Advanced Linear Algebra (PCA)\n",
        "\n",
        "*   List item\n",
        "*   List item\n",
        "\n",
        "\n",
        "This notebook will guide you through the implementation of Principal Component Analysis (PCA). Fill in the missing code and provide the required answers in the appropriate sections. You will work with the `fuel_econ.csv` dataset.\n",
        "\n",
        "Make sure to display outputs for each code cell when submitting."
      ]
    },
    {
      "cell_type": "markdown",
      "metadata": {
        "id": "xycIp758r_Kb"
      },
      "source": [
        "### Step 1: Load and Standardize the Data\n",
        "Before applying PCA, we must standardize the dataset. Standardization ensures that all features have a mean of 0 and a standard deviation of 1, which is essential for PCA.\n",
        "Fill in the code to standardize the dataset.\n",
        "\n",
        "STRICTLY - Write code that implements standardization based on the image below\n",
        "\n",
        "<img src='data:image/jpeg;base64,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'/>\n"
      ]
    },
    {
      "cell_type": "code",
      "source": [
        "import numpy as np\n",
        "import pandas as pd\n",
        "import matplotlib.pyplot as plt\n",
        "from sklearn.preprocessing import StandardScaler\n",
        "\n",
        "url = 'https://raw.githubusercontent.com/rodwol/PCA/main/owid-covid-latest.csv'\n",
        "data = pd.read_csv(url)\n",
        "\n",
        "numeric_data = data.select_dtypes(include=['number'])\n",
        "numeric_data = numeric_data.dropna(axis=1, how='any')\n",
        "numeric_data = numeric_data.fillna(numeric_data.mean())\n",
        "numeric_data = numeric_data.loc[:, numeric_data.std() > 0]\n",
        "\n",
        "scaler = StandardScaler()\n",
        "standardized = scaler.fit_transform(numeric_data)\n",
        "\n",
        "print(numeric_data.head())\n",
        "\n",
        "print(\"Shape of numeric data:\", numeric_data.shape)\n",
        "print(\"Any NaNs left?\", numeric_data.isna().sum().sum() > 0)"
      ],
      "metadata": {
        "colab": {
          "base_uri": "https://localhost:8080/"
        },
        "id": "VusihsJUKlcb",
        "outputId": "dfecb6c0-78d6-445c-c7d1-6e928e2782f8"
      },
      "execution_count": 8,
      "outputs": [
        {
          "output_type": "stream",
          "name": "stdout",
          "text": [
            "     population\n",
            "0  4.112877e+07\n",
            "1  1.426737e+09\n",
            "2  2.842318e+06\n",
            "3  4.490323e+07\n",
            "4  4.429500e+04\n",
            "Shape of numeric data: (247, 1)\n",
            "Any NaNs left? False\n"
          ]
        }
      ]
    },
    {
      "cell_type": "code",
      "execution_count": 9,
      "metadata": {
        "id": "BKihXBaBr_Kc",
        "colab": {
          "base_uri": "https://localhost:8080/"
        },
        "outputId": "d1f4de99-a0af-4697-f40e-b416107a043e"
      },
      "outputs": [
        {
          "output_type": "stream",
          "name": "stdout",
          "text": [
            "Any NaNs in standardized? total_cases                              False\n",
            "new_cases                                False\n",
            "new_cases_smoothed                       False\n",
            "total_deaths                             False\n",
            "new_deaths                               False\n",
            "new_deaths_smoothed                      False\n",
            "total_cases_per_million                  False\n",
            "new_cases_per_million                    False\n",
            "new_cases_smoothed_per_million           False\n",
            "total_deaths_per_million                 False\n",
            "new_deaths_per_million                   False\n",
            "new_deaths_smoothed_per_million          False\n",
            "icu_patients                             False\n",
            "icu_patients_per_million                 False\n",
            "hosp_patients                            False\n",
            "hosp_patients_per_million                False\n",
            "weekly_icu_admissions                    False\n",
            "weekly_icu_admissions_per_million        False\n",
            "weekly_hosp_admissions                   False\n",
            "weekly_hosp_admissions_per_million       False\n",
            "total_vaccinations                       False\n",
            "people_vaccinated                        False\n",
            "people_fully_vaccinated                  False\n",
            "total_boosters                           False\n",
            "new_vaccinations                         False\n",
            "new_vaccinations_smoothed                False\n",
            "total_vaccinations_per_hundred           False\n",
            "people_vaccinated_per_hundred            False\n",
            "people_fully_vaccinated_per_hundred      False\n",
            "total_boosters_per_hundred               False\n",
            "new_vaccinations_smoothed_per_million    False\n",
            "new_people_vaccinated_smoothed           False\n",
            "population_density                       False\n",
            "median_age                               False\n",
            "aged_65_older                            False\n",
            "aged_70_older                            False\n",
            "gdp_per_capita                           False\n",
            "extreme_poverty                          False\n",
            "cardiovasc_death_rate                    False\n",
            "diabetes_prevalence                      False\n",
            "female_smokers                           False\n",
            "male_smokers                             False\n",
            "handwashing_facilities                   False\n",
            "hospital_beds_per_thousand               False\n",
            "life_expectancy                          False\n",
            "human_development_index                  False\n",
            "population                               False\n",
            "dtype: bool\n",
            "Any Infs in standardized? total_cases                              False\n",
            "new_cases                                False\n",
            "new_cases_smoothed                       False\n",
            "total_deaths                             False\n",
            "new_deaths                               False\n",
            "new_deaths_smoothed                      False\n",
            "total_cases_per_million                  False\n",
            "new_cases_per_million                    False\n",
            "new_cases_smoothed_per_million           False\n",
            "total_deaths_per_million                 False\n",
            "new_deaths_per_million                   False\n",
            "new_deaths_smoothed_per_million          False\n",
            "icu_patients                             False\n",
            "icu_patients_per_million                 False\n",
            "hosp_patients                            False\n",
            "hosp_patients_per_million                False\n",
            "weekly_icu_admissions                    False\n",
            "weekly_icu_admissions_per_million        False\n",
            "weekly_hosp_admissions                   False\n",
            "weekly_hosp_admissions_per_million       False\n",
            "total_vaccinations                       False\n",
            "people_vaccinated                        False\n",
            "people_fully_vaccinated                  False\n",
            "total_boosters                           False\n",
            "new_vaccinations                         False\n",
            "new_vaccinations_smoothed                False\n",
            "total_vaccinations_per_hundred           False\n",
            "people_vaccinated_per_hundred            False\n",
            "people_fully_vaccinated_per_hundred      False\n",
            "total_boosters_per_hundred               False\n",
            "new_vaccinations_smoothed_per_million    False\n",
            "new_people_vaccinated_smoothed           False\n",
            "population_density                       False\n",
            "median_age                               False\n",
            "aged_65_older                            False\n",
            "aged_70_older                            False\n",
            "gdp_per_capita                           False\n",
            "extreme_poverty                          False\n",
            "cardiovasc_death_rate                    False\n",
            "diabetes_prevalence                      False\n",
            "female_smokers                           False\n",
            "male_smokers                             False\n",
            "handwashing_facilities                   False\n",
            "hospital_beds_per_thousand               False\n",
            "life_expectancy                          False\n",
            "human_development_index                  False\n",
            "population                               False\n",
            "dtype: bool\n",
            "Standardized shape: (247, 47)\n"
          ]
        }
      ],
      "source": [
        "def standardize_data(data):\n",
        "    data = data.select_dtypes(include=[np.number])\n",
        "    data = data.dropna(axis=1, how='all')\n",
        "    data = data.fillna(data.mean())\n",
        "    std = data.std()\n",
        "    data = data.loc[:, std > 0]\n",
        "\n",
        "    mean = data.mean()\n",
        "    std = data.std()\n",
        "\n",
        "    standardized_data = (data - mean) / std\n",
        "    return standardized_data\n",
        "\n",
        "standardized = standardize_data(data)\n",
        "print(\"Any NaNs in standardized?\", np.isnan(standardized).any())\n",
        "print(\"Any Infs in standardized?\", np.isinf(standardized).any())\n",
        "print(\"Standardized shape:\", standardized.shape)"
      ]
    },
    {
      "cell_type": "markdown",
      "metadata": {
        "id": "Fybn40Syr_Kd"
      },
      "source": [
        "### Step 3: Calculate the Covariance Matrix\n",
        "The covariance matrix helps us understand how the features are related to each other. It is a key component in PCA."
      ]
    },
    {
      "cell_type": "code",
      "execution_count": 10,
      "metadata": {
        "id": "RbklA9tqr_Ke",
        "colab": {
          "base_uri": "https://localhost:8080/"
        },
        "outputId": "08a841cf-7097-46c2-cfd9-5ec8731311d5"
      },
      "outputs": [
        {
          "output_type": "stream",
          "name": "stdout",
          "text": [
            "Covariance matrix shape: (47, 47)\n",
            "Any NaNs? False\n",
            "Any infs? False\n",
            "[[ 1.    0.88  0.88 ...  0.03  0.05  0.87]\n",
            " [ 0.88  1.    1.   ...  0.03  0.05  0.63]\n",
            " [ 0.88  1.    1.   ...  0.03  0.05  0.63]\n",
            " ...\n",
            " [ 0.03  0.03  0.03 ...  1.    0.82 -0.01]\n",
            " [ 0.05  0.05  0.05 ...  0.82  1.    0.  ]\n",
            " [ 0.87  0.63  0.63 ... -0.01  0.    1.  ]]\n"
          ]
        }
      ],
      "source": [
        "# Step 3: Calculate the Covariance Matrix\n",
        "def compute_covariance_matrix(X_std):\n",
        "    X_std = X_std.to_numpy()  # Ensure it's a NumPy array\n",
        "    n_samples = X_std.shape[0]\n",
        "    cov_matrix = (X_std.T @ X_std) / (n_samples - 1)  # Use n - 1\n",
        "    return cov_matrix\n",
        "\n",
        "cov_matrix = compute_covariance_matrix(standardized)\n",
        "\n",
        "# Sanity checks\n",
        "print(\"Covariance matrix shape:\", cov_matrix.shape)\n",
        "print(\"Any NaNs?\", np.isnan(cov_matrix).any())\n",
        "print(\"Any infs?\", np.isinf(cov_matrix).any())\n",
        "print(cov_matrix.round(2))"
      ]
    },
    {
      "cell_type": "markdown",
      "metadata": {
        "id": "dWzqXsR0r_Ke"
      },
      "source": [
        "### Step 4: Perform Eigendecomposition\n",
        "Eigendecomposition of the covariance matrix will give us the eigenvalues and eigenvectors, which are essential for PCA.\n",
        "Fill in the code to compute the eigenvalues and eigenvectors of the covariance matrix."
      ]
    },
    {
      "cell_type": "code",
      "execution_count": 11,
      "metadata": {
        "id": "8Tm0rzdAr_Ke",
        "colab": {
          "base_uri": "https://localhost:8080/"
        },
        "outputId": "af853e0f-e67e-4426-f221-f127be5ed273"
      },
      "outputs": [
        {
          "output_type": "execute_result",
          "data": {
            "text/plain": [
              "(array([ 9.22890836e+00+0.00000000e+00j,  7.69685112e+00+0.00000000e+00j,\n",
              "         5.32604496e+00+0.00000000e+00j,  3.99174044e+00+0.00000000e+00j,\n",
              "         3.13842357e+00+0.00000000e+00j,  2.38416415e+00+0.00000000e+00j,\n",
              "         2.13536802e+00+0.00000000e+00j,  1.72637092e+00+0.00000000e+00j,\n",
              "         1.62342591e+00+0.00000000e+00j,  1.36446027e+00+0.00000000e+00j,\n",
              "         1.14333266e+00+0.00000000e+00j,  9.73723604e-01+0.00000000e+00j,\n",
              "         8.92328275e-01+0.00000000e+00j,  8.00483083e-01+0.00000000e+00j,\n",
              "         6.26046588e-01+0.00000000e+00j,  5.73028009e-01+0.00000000e+00j,\n",
              "         4.62475720e-01+0.00000000e+00j,  4.53021496e-01+0.00000000e+00j,\n",
              "         4.10765898e-01+0.00000000e+00j,  3.87096786e-01+0.00000000e+00j,\n",
              "         3.34731586e-01+0.00000000e+00j,  3.46557800e-01+0.00000000e+00j,\n",
              "         2.05114316e-01+0.00000000e+00j,  1.89513449e-01+0.00000000e+00j,\n",
              "         1.75194212e-01+0.00000000e+00j,  1.36468334e-01+0.00000000e+00j,\n",
              "         9.81693236e-02+0.00000000e+00j,  5.90777912e-02+0.00000000e+00j,\n",
              "         4.26727388e-02+0.00000000e+00j,  2.34846429e-02+0.00000000e+00j,\n",
              "         1.98844560e-02+0.00000000e+00j,  1.53147997e-02+0.00000000e+00j,\n",
              "         1.05759236e-02+0.00000000e+00j,  2.54439097e-03+0.00000000e+00j,\n",
              "         2.38996611e-03+0.00000000e+00j,  2.38941712e-04+0.00000000e+00j,\n",
              "         7.15512749e-06+0.00000000e+00j,  3.29584194e-07+0.00000000e+00j,\n",
              "         5.96675540e-11+0.00000000e+00j,  1.09685623e-11+0.00000000e+00j,\n",
              "         2.22167455e-14+0.00000000e+00j,  1.96151837e-16+0.00000000e+00j,\n",
              "         5.49123880e-17+0.00000000e+00j,  2.10163371e-18+0.00000000e+00j,\n",
              "        -9.80450940e-17+5.38290821e-17j, -9.80450940e-17-5.38290821e-17j,\n",
              "        -1.59901866e-16+0.00000000e+00j]),\n",
              " array([[-3.01692683e-01+0.00000000e+00j, -3.95173118e-02+0.00000000e+00j,\n",
              "         -9.59569509e-02+0.00000000e+00j, ...,\n",
              "         -2.79719866e-11-6.91242779e-11j, -2.79719866e-11+6.91242779e-11j,\n",
              "         -7.88678283e-11+0.00000000e+00j],\n",
              "        [-2.47139440e-01+0.00000000e+00j, -5.76840045e-02+0.00000000e+00j,\n",
              "         -7.00993763e-02+0.00000000e+00j, ...,\n",
              "         -1.73959386e-04-2.61534292e-04j, -1.73959386e-04+2.61534292e-04j,\n",
              "         -4.03171952e-04+0.00000000e+00j],\n",
              "        [-2.47139443e-01+0.00000000e+00j, -5.76840126e-02+0.00000000e+00j,\n",
              "         -7.00993647e-02+0.00000000e+00j, ...,\n",
              "          1.73959396e-04+2.61534308e-04j,  1.73959396e-04-2.61534308e-04j,\n",
              "          4.03171968e-04+0.00000000e+00j],\n",
              "        ...,\n",
              "        [ 2.07496317e-02+0.00000000e+00j, -2.88941679e-01+0.00000000e+00j,\n",
              "         -3.17913927e-02+0.00000000e+00j, ...,\n",
              "         -2.49636994e-12-3.89332571e-12j, -2.49636994e-12+3.89332571e-12j,\n",
              "         -6.84953739e-12+0.00000000e+00j],\n",
              "        [ 2.11732330e-02+0.00000000e+00j, -3.16434283e-01+0.00000000e+00j,\n",
              "         -5.23876325e-02+0.00000000e+00j, ...,\n",
              "          1.01956749e-14+5.81851408e-12j,  1.01956749e-14-5.81851408e-12j,\n",
              "          4.54599952e-12+0.00000000e+00j],\n",
              "        [-2.86608070e-01+0.00000000e+00j,  9.45675259e-04+0.00000000e+00j,\n",
              "         -8.68917036e-02+0.00000000e+00j, ...,\n",
              "         -2.79314001e-11-2.44341351e-11j, -2.79314001e-11+2.44341351e-11j,\n",
              "         -5.08466993e-11+0.00000000e+00j]]))"
            ]
          },
          "metadata": {},
          "execution_count": 11
        }
      ],
      "source": [
        "# Step 4: Perform Eigendecomposition\n",
        "eigenvalues, eigenvectors = np.linalg.eig(cov_matrix)  # Perform eigendecomposition\n",
        "eigenvalues, eigenvectors"
      ]
    },
    {
      "cell_type": "markdown",
      "metadata": {
        "id": "bp6o_4sTr_Kf"
      },
      "source": [
        "### Step 5: Sort Principal Components\n",
        "Sort the eigenvectors based on their corresponding eigenvalues in descending order. The higher the eigenvalue, the more important the eigenvector.\n",
        "Complete the code to sort the eigenvectors and print the sorted components.\n",
        "\n",
        "<a url ='https://www.youtube.com/watch?v=vaF-1xUEXsA&t=17s'>How Is Explained Variance Used In PCA?'<a/>"
      ]
    },
    {
      "cell_type": "code",
      "execution_count": 12,
      "metadata": {
        "id": "jpfoRz-Xr_Kf",
        "colab": {
          "base_uri": "https://localhost:8080/"
        },
        "outputId": "ad5fb7a2-4dc7-4e88-8f6a-16b10e5cb9d3"
      },
      "outputs": [
        {
          "output_type": "execute_result",
          "data": {
            "text/plain": [
              "array([[-3.01692683e-01+0.00000000e+00j, -3.95173118e-02+0.00000000e+00j,\n",
              "        -9.59569509e-02+0.00000000e+00j, ...,\n",
              "        -2.79719866e-11-6.91242779e-11j, -2.79719866e-11+6.91242779e-11j,\n",
              "        -7.88678283e-11+0.00000000e+00j],\n",
              "       [-2.47139440e-01+0.00000000e+00j, -5.76840045e-02+0.00000000e+00j,\n",
              "        -7.00993763e-02+0.00000000e+00j, ...,\n",
              "        -1.73959386e-04-2.61534292e-04j, -1.73959386e-04+2.61534292e-04j,\n",
              "        -4.03171952e-04+0.00000000e+00j],\n",
              "       [-2.47139443e-01+0.00000000e+00j, -5.76840126e-02+0.00000000e+00j,\n",
              "        -7.00993647e-02+0.00000000e+00j, ...,\n",
              "         1.73959396e-04+2.61534308e-04j,  1.73959396e-04-2.61534308e-04j,\n",
              "         4.03171968e-04+0.00000000e+00j],\n",
              "       ...,\n",
              "       [ 2.07496317e-02+0.00000000e+00j, -2.88941679e-01+0.00000000e+00j,\n",
              "        -3.17913927e-02+0.00000000e+00j, ...,\n",
              "        -2.49636994e-12-3.89332571e-12j, -2.49636994e-12+3.89332571e-12j,\n",
              "        -6.84953739e-12+0.00000000e+00j],\n",
              "       [ 2.11732330e-02+0.00000000e+00j, -3.16434283e-01+0.00000000e+00j,\n",
              "        -5.23876325e-02+0.00000000e+00j, ...,\n",
              "         1.01956749e-14+5.81851408e-12j,  1.01956749e-14-5.81851408e-12j,\n",
              "         4.54599952e-12+0.00000000e+00j],\n",
              "       [-2.86608070e-01+0.00000000e+00j,  9.45675259e-04+0.00000000e+00j,\n",
              "        -8.68917036e-02+0.00000000e+00j, ...,\n",
              "        -2.79314001e-11-2.44341351e-11j, -2.79314001e-11+2.44341351e-11j,\n",
              "        -5.08466993e-11+0.00000000e+00j]])"
            ]
          },
          "metadata": {},
          "execution_count": 12
        }
      ],
      "source": [
        "# Step 5: Sort Principal Components\n",
        "sorted_indices = np.argsort(eigenvalues)[::-1]  # Sort eigenvalues in descending order\n",
        "sorted_eigenvectors = eigenvectors[:, sorted_indices]  # Sort eigenvectors accordingly\n",
        "sorted_eigenvectors"
      ]
    },
    {
      "cell_type": "markdown",
      "metadata": {
        "id": "uxbmuO27r_Kg"
      },
      "source": [
        "### Step 6: Project Data onto Principal Components\n",
        "Now that we’ve selected the number of components, we will project the original data onto the chosen principal components.\n",
        "Fill in the code to perform the projection."
      ]
    },
    {
      "cell_type": "code",
      "execution_count": 13,
      "metadata": {
        "id": "ubjIMAtWr_Kg",
        "colab": {
          "base_uri": "https://localhost:8080/"
        },
        "outputId": "1404d02c-211d-498b-9353-1b93c5bc1aac"
      },
      "outputs": [
        {
          "output_type": "stream",
          "name": "stdout",
          "text": [
            "Reduced data shape: (247, 2)\n",
            "First 5 rows of reduced data:\n",
            "                     0                   1\n",
            "0  0.111468+0.000000j  3.727780+0.000000j\n",
            "1 -0.512507+0.000000j  0.643679+0.000000j\n",
            "2  0.386702+0.000000j -0.862753+0.000000j\n",
            "3  0.213674+0.000000j  0.879627+0.000000j\n",
            "4  0.326457+0.000000j  0.382199+0.000000j\n"
          ]
        }
      ],
      "source": [
        "# Step 6: Project Data onto Principal Components\n",
        "num_components = 2  # Choose number of principal components to keep\n",
        "top_components = eigenvectors[:, :num_components]  # Select top components\n",
        "reduced_data = standardized @ top_components  # Project data\n",
        "\n",
        "# Show output\n",
        "print(\"Reduced data shape:\", reduced_data.shape)\n",
        "print(\"First 5 rows of reduced data:\\n\", reduced_data[:5])\n"
      ]
    },
    {
      "cell_type": "markdown",
      "metadata": {
        "id": "XVq-b6vtr_Kg"
      },
      "source": [
        "### Step 7: Output the Reduced Data\n",
        "Finally, display the reduced data obtained by projecting the original dataset onto the selected principal components."
      ]
    },
    {
      "cell_type": "code",
      "execution_count": 15,
      "metadata": {
        "id": "5D0uzRyPr_Kg",
        "colab": {
          "base_uri": "https://localhost:8080/",
          "height": 223
        },
        "outputId": "08d2ef5b-a1da-4b76-c8f6-6ad210edc5a2"
      },
      "outputs": [
        {
          "output_type": "stream",
          "name": "stdout",
          "text": [
            "Reduced Data Shape: (247, 2)\n"
          ]
        },
        {
          "output_type": "execute_result",
          "data": {
            "text/plain": [
              "                    0                   1\n",
              "0  0.111468+0.000000j  3.727780+0.000000j\n",
              "1 -0.512507+0.000000j  0.643679+0.000000j\n",
              "2  0.386702+0.000000j -0.862753+0.000000j\n",
              "3  0.213674+0.000000j  0.879627+0.000000j\n",
              "4  0.326457+0.000000j  0.382199+0.000000j"
            ],
            "text/html": [
              "\n",
              "  <div id=\"df-5c9a486e-d39a-41c3-8178-514597ec67b1\" class=\"colab-df-container\">\n",
              "    <div>\n",
              "<style scoped>\n",
              "    .dataframe tbody tr th:only-of-type {\n",
              "        vertical-align: middle;\n",
              "    }\n",
              "\n",
              "    .dataframe tbody tr th {\n",
              "        vertical-align: top;\n",
              "    }\n",
              "\n",
              "    .dataframe thead th {\n",
              "        text-align: right;\n",
              "    }\n",
              "</style>\n",
              "<table border=\"1\" class=\"dataframe\">\n",
              "  <thead>\n",
              "    <tr style=\"text-align: right;\">\n",
              "      <th></th>\n",
              "      <th>0</th>\n",
              "      <th>1</th>\n",
              "    </tr>\n",
              "  </thead>\n",
              "  <tbody>\n",
              "    <tr>\n",
              "      <th>0</th>\n",
              "      <td>0.111468+0.000000j</td>\n",
              "      <td>3.727780+0.000000j</td>\n",
              "    </tr>\n",
              "    <tr>\n",
              "      <th>1</th>\n",
              "      <td>-0.512507+0.000000j</td>\n",
              "      <td>0.643679+0.000000j</td>\n",
              "    </tr>\n",
              "    <tr>\n",
              "      <th>2</th>\n",
              "      <td>0.386702+0.000000j</td>\n",
              "      <td>-0.862753+0.000000j</td>\n",
              "    </tr>\n",
              "    <tr>\n",
              "      <th>3</th>\n",
              "      <td>0.213674+0.000000j</td>\n",
              "      <td>0.879627+0.000000j</td>\n",
              "    </tr>\n",
              "    <tr>\n",
              "      <th>4</th>\n",
              "      <td>0.326457+0.000000j</td>\n",
              "      <td>0.382199+0.000000j</td>\n",
              "    </tr>\n",
              "  </tbody>\n",
              "</table>\n",
              "</div>\n",
              "    <div class=\"colab-df-buttons\">\n",
              "\n",
              "  <div class=\"colab-df-container\">\n",
              "    <button class=\"colab-df-convert\" onclick=\"convertToInteractive('df-5c9a486e-d39a-41c3-8178-514597ec67b1')\"\n",
              "            title=\"Convert this dataframe to an interactive table.\"\n",
              "            style=\"display:none;\">\n",
              "\n",
              "  <svg xmlns=\"http://www.w3.org/2000/svg\" height=\"24px\" viewBox=\"0 -960 960 960\">\n",
              "    <path d=\"M120-120v-720h720v720H120Zm60-500h600v-160H180v160Zm220 220h160v-160H400v160Zm0 220h160v-160H400v160ZM180-400h160v-160H180v160Zm440 0h160v-160H620v160ZM180-180h160v-160H180v160Zm440 0h160v-160H620v160Z\"/>\n",
              "  </svg>\n",
              "    </button>\n",
              "\n",
              "  <style>\n",
              "    .colab-df-container {\n",
              "      display:flex;\n",
              "      gap: 12px;\n",
              "    }\n",
              "\n",
              "    .colab-df-convert {\n",
              "      background-color: #E8F0FE;\n",
              "      border: none;\n",
              "      border-radius: 50%;\n",
              "      cursor: pointer;\n",
              "      display: none;\n",
              "      fill: #1967D2;\n",
              "      height: 32px;\n",
              "      padding: 0 0 0 0;\n",
              "      width: 32px;\n",
              "    }\n",
              "\n",
              "    .colab-df-convert:hover {\n",
              "      background-color: #E2EBFA;\n",
              "      box-shadow: 0px 1px 2px rgba(60, 64, 67, 0.3), 0px 1px 3px 1px rgba(60, 64, 67, 0.15);\n",
              "      fill: #174EA6;\n",
              "    }\n",
              "\n",
              "    .colab-df-buttons div {\n",
              "      margin-bottom: 4px;\n",
              "    }\n",
              "\n",
              "    [theme=dark] .colab-df-convert {\n",
              "      background-color: #3B4455;\n",
              "      fill: #D2E3FC;\n",
              "    }\n",
              "\n",
              "    [theme=dark] .colab-df-convert:hover {\n",
              "      background-color: #434B5C;\n",
              "      box-shadow: 0px 1px 3px 1px rgba(0, 0, 0, 0.15);\n",
              "      filter: drop-shadow(0px 1px 2px rgba(0, 0, 0, 0.3));\n",
              "      fill: #FFFFFF;\n",
              "    }\n",
              "  </style>\n",
              "\n",
              "    <script>\n",
              "      const buttonEl =\n",
              "        document.querySelector('#df-5c9a486e-d39a-41c3-8178-514597ec67b1 button.colab-df-convert');\n",
              "      buttonEl.style.display =\n",
              "        google.colab.kernel.accessAllowed ? 'block' : 'none';\n",
              "\n",
              "      async function convertToInteractive(key) {\n",
              "        const element = document.querySelector('#df-5c9a486e-d39a-41c3-8178-514597ec67b1');\n",
              "        const dataTable =\n",
              "          await google.colab.kernel.invokeFunction('convertToInteractive',\n",
              "                                                    [key], {});\n",
              "        if (!dataTable) return;\n",
              "\n",
              "        const docLinkHtml = 'Like what you see? Visit the ' +\n",
              "          '<a target=\"_blank\" href=https://colab.research.google.com/notebooks/data_table.ipynb>data table notebook</a>'\n",
              "          + ' to learn more about interactive tables.';\n",
              "        element.innerHTML = '';\n",
              "        dataTable['output_type'] = 'display_data';\n",
              "        await google.colab.output.renderOutput(dataTable, element);\n",
              "        const docLink = document.createElement('div');\n",
              "        docLink.innerHTML = docLinkHtml;\n",
              "        element.appendChild(docLink);\n",
              "      }\n",
              "    </script>\n",
              "  </div>\n",
              "\n",
              "\n",
              "    <div id=\"df-3300ae2b-d065-4037-9a20-6a7f59959156\">\n",
              "      <button class=\"colab-df-quickchart\" onclick=\"quickchart('df-3300ae2b-d065-4037-9a20-6a7f59959156')\"\n",
              "                title=\"Suggest charts\"\n",
              "                style=\"display:none;\">\n",
              "\n",
              "<svg xmlns=\"http://www.w3.org/2000/svg\" height=\"24px\"viewBox=\"0 0 24 24\"\n",
              "     width=\"24px\">\n",
              "    <g>\n",
              "        <path d=\"M19 3H5c-1.1 0-2 .9-2 2v14c0 1.1.9 2 2 2h14c1.1 0 2-.9 2-2V5c0-1.1-.9-2-2-2zM9 17H7v-7h2v7zm4 0h-2V7h2v10zm4 0h-2v-4h2v4z\"/>\n",
              "    </g>\n",
              "</svg>\n",
              "      </button>\n",
              "\n",
              "<style>\n",
              "  .colab-df-quickchart {\n",
              "      --bg-color: #E8F0FE;\n",
              "      --fill-color: #1967D2;\n",
              "      --hover-bg-color: #E2EBFA;\n",
              "      --hover-fill-color: #174EA6;\n",
              "      --disabled-fill-color: #AAA;\n",
              "      --disabled-bg-color: #DDD;\n",
              "  }\n",
              "\n",
              "  [theme=dark] .colab-df-quickchart {\n",
              "      --bg-color: #3B4455;\n",
              "      --fill-color: #D2E3FC;\n",
              "      --hover-bg-color: #434B5C;\n",
              "      --hover-fill-color: #FFFFFF;\n",
              "      --disabled-bg-color: #3B4455;\n",
              "      --disabled-fill-color: #666;\n",
              "  }\n",
              "\n",
              "  .colab-df-quickchart {\n",
              "    background-color: var(--bg-color);\n",
              "    border: none;\n",
              "    border-radius: 50%;\n",
              "    cursor: pointer;\n",
              "    display: none;\n",
              "    fill: var(--fill-color);\n",
              "    height: 32px;\n",
              "    padding: 0;\n",
              "    width: 32px;\n",
              "  }\n",
              "\n",
              "  .colab-df-quickchart:hover {\n",
              "    background-color: var(--hover-bg-color);\n",
              "    box-shadow: 0 1px 2px rgba(60, 64, 67, 0.3), 0 1px 3px 1px rgba(60, 64, 67, 0.15);\n",
              "    fill: var(--button-hover-fill-color);\n",
              "  }\n",
              "\n",
              "  .colab-df-quickchart-complete:disabled,\n",
              "  .colab-df-quickchart-complete:disabled:hover {\n",
              "    background-color: var(--disabled-bg-color);\n",
              "    fill: var(--disabled-fill-color);\n",
              "    box-shadow: none;\n",
              "  }\n",
              "\n",
              "  .colab-df-spinner {\n",
              "    border: 2px solid var(--fill-color);\n",
              "    border-color: transparent;\n",
              "    border-bottom-color: var(--fill-color);\n",
              "    animation:\n",
              "      spin 1s steps(1) infinite;\n",
              "  }\n",
              "\n",
              "  @keyframes spin {\n",
              "    0% {\n",
              "      border-color: transparent;\n",
              "      border-bottom-color: var(--fill-color);\n",
              "      border-left-color: var(--fill-color);\n",
              "    }\n",
              "    20% {\n",
              "      border-color: transparent;\n",
              "      border-left-color: var(--fill-color);\n",
              "      border-top-color: var(--fill-color);\n",
              "    }\n",
              "    30% {\n",
              "      border-color: transparent;\n",
              "      border-left-color: var(--fill-color);\n",
              "      border-top-color: var(--fill-color);\n",
              "      border-right-color: var(--fill-color);\n",
              "    }\n",
              "    40% {\n",
              "      border-color: transparent;\n",
              "      border-right-color: var(--fill-color);\n",
              "      border-top-color: var(--fill-color);\n",
              "    }\n",
              "    60% {\n",
              "      border-color: transparent;\n",
              "      border-right-color: var(--fill-color);\n",
              "    }\n",
              "    80% {\n",
              "      border-color: transparent;\n",
              "      border-right-color: var(--fill-color);\n",
              "      border-bottom-color: var(--fill-color);\n",
              "    }\n",
              "    90% {\n",
              "      border-color: transparent;\n",
              "      border-bottom-color: var(--fill-color);\n",
              "    }\n",
              "  }\n",
              "</style>\n",
              "\n",
              "      <script>\n",
              "        async function quickchart(key) {\n",
              "          const quickchartButtonEl =\n",
              "            document.querySelector('#' + key + ' button');\n",
              "          quickchartButtonEl.disabled = true;  // To prevent multiple clicks.\n",
              "          quickchartButtonEl.classList.add('colab-df-spinner');\n",
              "          try {\n",
              "            const charts = await google.colab.kernel.invokeFunction(\n",
              "                'suggestCharts', [key], {});\n",
              "          } catch (error) {\n",
              "            console.error('Error during call to suggestCharts:', error);\n",
              "          }\n",
              "          quickchartButtonEl.classList.remove('colab-df-spinner');\n",
              "          quickchartButtonEl.classList.add('colab-df-quickchart-complete');\n",
              "        }\n",
              "        (() => {\n",
              "          let quickchartButtonEl =\n",
              "            document.querySelector('#df-3300ae2b-d065-4037-9a20-6a7f59959156 button');\n",
              "          quickchartButtonEl.style.display =\n",
              "            google.colab.kernel.accessAllowed ? 'block' : 'none';\n",
              "        })();\n",
              "      </script>\n",
              "    </div>\n",
              "\n",
              "    </div>\n",
              "  </div>\n"
            ],
            "application/vnd.google.colaboratory.intrinsic+json": {
              "type": "dataframe",
              "variable_name": "reduced_data",
              "summary": "{\n  \"name\": \"reduced_data\",\n  \"rows\": 247,\n  \"fields\": [\n    {\n      \"column\": 0,\n      \"properties\": {\n        \"dtype\": \"number\",\n        \"std\": 3.0379118428370813,\n        \"min\": \"(-38.545667428237124+0j)\",\n        \"max\": \"(8.05203705592177+0j)\",\n        \"num_unique_values\": 247,\n        \"samples\": [\n          \"(0.5723173575011037+0j)\",\n          \"(0.12343360876381318+0j)\",\n          \"(0.4250791343907307+0j)\"\n        ],\n        \"semantic_type\": \"\",\n        \"description\": \"\"\n      }\n    },\n    {\n      \"column\": 1,\n      \"properties\": {\n        \"dtype\": \"number\",\n        \"std\": 2.774319938133814,\n        \"min\": \"(-9.402346057614118+0j)\",\n        \"max\": \"(4.815208770182868+0j)\",\n        \"num_unique_values\": 247,\n        \"samples\": [\n          \"(-3.7704859508635535+0j)\",\n          \"(3.2096205750204376+0j)\",\n          \"(-0.8402111440335226+0j)\"\n        ],\n        \"semantic_type\": \"\",\n        \"description\": \"\"\n      }\n    }\n  ]\n}"
            }
          },
          "metadata": {},
          "execution_count": 15
        }
      ],
      "source": [
        "# Step 7: Output the Reduced Data\n",
        "print(f'Reduced Data Shape: {reduced_data.shape}')  # Display reduced data shape\n",
        "reduced_data.head()  # Display the first few rows of reduced data"
      ]
    },
    {
      "cell_type": "markdown",
      "metadata": {
        "id": "S1f8ROm5r_Kg"
      },
      "source": [
        "### Step 8: Visualize Before and After PCA\n",
        "Now, let's plot the original data and the data after PCA to compare the reduction in dimensions visually."
      ]
    },
    {
      "cell_type": "code",
      "execution_count": null,
      "metadata": {
        "id": "WwuppWV-r_Kg"
      },
      "outputs": [],
      "source": [
        "# Step 8: Visualize Before and After PCA\n",
        "\n",
        "\n",
        "print(\"\\n--- Step 6: Visualizing Results ---\")\n",
        "\n",
        "# Create a figure to hold our two plots\n",
        "plt.figure(figsize=(16, 7))\n",
        "\n",
        "# --- PLOT 1: ORIGINAL DATA (BEFORE PCA) ---\n",
        "plt.subplot(1, 2, 1)\n",
        "# Let's pick two interesting original features to plot against each other\n",
        "# We use the 'final_column_names' list we saved in Step 0\n",
        "idx_gdp = final_column_names.index('gdp_per_capita')\n",
        "idx_life = final_column_names.index('life_expectancy')\n",
        "plt.scatter(X[:, idx_gdp], X[:, idx_life], alpha=0.6, c='blue')\n",
        "plt.title('Before PCA: Original Data', fontsize=16)\n",
        "plt.xlabel('GDP per Capita (Original)', fontsize=12)\n",
        "plt.ylabel('Life Expectancy (Original)', fontsize=12)\n",
        "plt.grid(True)\n",
        "\n",
        "# --- PLOT 2: REDUCED DATA (AFTER PCA) ---\n",
        "plt.subplot(1, 2, 2)\n",
        "# The reduced data has two columns: PC1 and PC2\n",
        "plt.scatter(reduced_data[:, 0], reduced_data[:, 1], alpha=0.6, c='orange')\n",
        "plt.title('After PCA: Reduced to 2 Dimensions', fontsize=16)\n",
        "plt.xlabel('Principal Component 1', fontsize=12)\n",
        "plt.ylabel('Principal Component 2', fontsize=12)\n",
        "plt.grid(True)\n",
        "\n",
        "plt.suptitle('PCA Dimensionality Reduction', fontsize=20)\n",
        "plt.tight_layout(rect=[0, 0.03, 1, 0.95])\n",
        "plt.show()\n",
        "print(\"\\nVisualization complete.\")"
      ]
    }
  ],
  "metadata": {
    "kernelspec": {
      "display_name": "Python 3",
      "name": "python3"
    },
    "language_info": {
      "name": "python",
      "version": "3.8.8"
    },
    "colab": {
      "provenance": [],
      "include_colab_link": true
    }
  },
  "nbformat": 4,
  "nbformat_minor": 0
}